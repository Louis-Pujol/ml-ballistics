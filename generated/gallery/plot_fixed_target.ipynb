{
  "cells": [
    {
      "cell_type": "code",
      "execution_count": null,
      "metadata": {
        "collapsed": false
      },
      "outputs": [],
      "source": [
        "%matplotlib inline"
      ]
    },
    {
      "cell_type": "markdown",
      "metadata": {},
      "source": [
        "\nReach a fixed target\n====================\n\nThis example shows how to reach a fixed target with a missile.\n"
      ]
    },
    {
      "cell_type": "code",
      "execution_count": null,
      "metadata": {
        "collapsed": false
      },
      "outputs": [],
      "source": [
        "import torch\ntorch.manual_seed(0)\nfrom mlballistics.objects import Sphere\nfrom mlballistics.forces import Gravity, Drag\nfrom mlballistics.scene import Scene\n\ncpos = [(6.500000085681677, -22.012470029172995, 5.000000189989805),\n (6.500000085681677, 0.0, 5.000000189989805),\n (0.0, 0.0, 1.0)]\n\n#\u00a0%%\n# Some conditions\n\ndef initial_conditions(speed, angle, max_speed=30):\n    \"\"\"Convert speed and angle to initial position and velocity.\n\n    Parameters\n    ----------\n    speed\n        Initial speed of the missile. (m/s)\n    angle\n        angle of the missile with respect to the horizontal. (rad)\n    max_speed\n        Maximum speed of the missile. (m/s)\n\n    Returns\n    -------\n    initial_position\n        Initial position of the missile. (m)\n    initial_velocity\n        Initial velocity of the missile. (m/s)\n    \"\"\"\n    #\u00a0Speed must be positive and less than max_speed.\n    speed = torch.clamp(speed, 0.0, max_speed)\n    initial_position = torch.Tensor([0.0, 0.0, 0.0])\n\n    initial_velocity = torch.zeros(3, dtype=torch.float32)\n\n    initial_velocity[0] = speed * torch.cos(angle)\n    initial_velocity[2] = speed * torch.sin(angle)\n\n    return initial_position, initial_velocity"
      ]
    },
    {
      "cell_type": "markdown",
      "metadata": {},
      "source": [
        "Initialize the target (no force + 0 initial velocity = fixed target).\n\n"
      ]
    },
    {
      "cell_type": "code",
      "execution_count": null,
      "metadata": {
        "collapsed": false
      },
      "outputs": [],
      "source": [
        "target = Sphere(\n    radius=0.1,\n    mass=1.0,\n)\n\ntarget.force = None\n\ninital_x = 13 # * (0.5 + (torch.rand(1) / 2))\ninital_z = 10 # * (0.7 + (torch.rand(1) / 2))\n\ntarget.initial_position = torch.Tensor([inital_x, 0.0, inital_z])\ntarget.initial_velocity = torch.Tensor([0.0, 0.0, 0.0])"
      ]
    },
    {
      "cell_type": "markdown",
      "metadata": {},
      "source": [
        "Missile with drag.\n\n"
      ]
    },
    {
      "cell_type": "code",
      "execution_count": null,
      "metadata": {
        "collapsed": false
      },
      "outputs": [],
      "source": [
        "missile = Sphere(\n    radius=0.1,\n    mass=1.0,\n    force=Gravity(),\n)\n\nmissile.force = Gravity() + Drag()\n\n#\u00a0%%\n# Random initial conditions.\n\ninitial_speed = 30 * (0.5 * torch.rand(1) + 0.5)\ninitial_angle = torch.pi * torch.rand(1) / 2\n\ninitial_speed.requires_grad = True\ninitial_angle.requires_grad = True\n\n\ninitial_position, initial_velocity = initial_conditions(\n    initial_speed, initial_angle\n    )\n\nmissile.initial_position = initial_position\nmissile.initial_velocity = initial_velocity"
      ]
    },
    {
      "cell_type": "markdown",
      "metadata": {},
      "source": [
        "Simulate the scene.\n\n"
      ]
    },
    {
      "cell_type": "code",
      "execution_count": null,
      "metadata": {
        "collapsed": false
      },
      "outputs": [],
      "source": [
        "scene = Scene(objects=[missile, target])\nscene.simulate(stop_time=1, n_steps=100)"
      ]
    },
    {
      "cell_type": "markdown",
      "metadata": {},
      "source": [
        "Plot the trajectories.\n\n"
      ]
    },
    {
      "cell_type": "code",
      "execution_count": null,
      "metadata": {
        "collapsed": false
      },
      "outputs": [],
      "source": [
        "import pyvista as pv\n\n\nplotter_gif = pv.Plotter(off_screen=True)\n\nplotter_gif.open_gif(\"initial.gif\", fps=30)\nfor time in range(100):\n\n    plotter_gif.clear_actors()\n\n    actor1 = missile.actor(time=time, color='red', opacity=0.5)\n    actor2 = target.actor(time=time, color='blue', opacity=0.5)\n\n    plotter_gif.add_actor(actor1)\n    plotter_gif.add_actor(actor2)\n\n    plotter_gif.camera_position = cpos\n    plotter_gif.show_axes()\n    plotter_gif.write_frame()\n\nplotter_gif.show()\n\n#\u00a0%%\n# Define the forward pass.\n\n\ndef forward(initial_angle, initial_speed):\n    initial_position, initial_velocity = initial_conditions(\n        initial_speed, initial_angle\n        )\n\n    missile.initial_position = initial_position\n    missile.initial_velocity = initial_velocity\n\n    scene = Scene(objects=[missile, target])\n    scene.simulate(stop_time=1, n_steps=100)\n\n    loss = torch.norm(missile.trajectory - target.trajectory, dim=1).min()\n\n    return loss\n\n\n#\u00a0%%\n# Optimize the initial conditions.\n\noptimizer = torch.optim.LBFGS(\n    [initial_angle, initial_speed],\n    line_search_fn='strong_wolfe'\n    )\n\ndef closure():\n    optimizer.zero_grad()\n    loss = forward(initial_angle, initial_speed)\n    loss.backward()\n    return loss\n\ndef text():\n    return (f\"Angle: {initial_angle.item():.2f} rad, Speed: {initial_speed.item():.2f} m/s, Loss: {closure().item():.2f}\")\n\nprint(\"Initial conditions: \" + text())\nfor i in range(2):\n    if closure().item() > 1e-5:\n        optimizer.step(closure)\n        print(f\"Step {i+1}: \" + text())"
      ]
    },
    {
      "cell_type": "markdown",
      "metadata": {},
      "source": [
        "Plot the trajectory after optimization.\n\n"
      ]
    },
    {
      "cell_type": "code",
      "execution_count": null,
      "metadata": {
        "collapsed": false
      },
      "outputs": [],
      "source": [
        "plotter_gif = pv.Plotter(off_screen=True)\nplotter_gif.open_gif(\"final.gif\", fps=30)\ncollision = False\nfor time in range(100):\n\n    if not collision:\n\n        if torch.norm(\n            missile.trajectory[time, :] - target.trajectory[time, :]\n            ) < missile.radius + target.radius:\n            collision = True\n\n        plotter_gif.clear_actors()\n\n        actor1 = missile.actor(time=time, color='red', opacity=0.5)\n        actor2 = target.actor(time=time, color='blue', opacity=0.5)\n\n        plotter_gif.add_actor(actor1)\n        plotter_gif.add_actor(actor2)\n\n        plotter_gif.camera_position = cpos\n        plotter_gif.show_axes()\n        plotter_gif.write_frame()\n\nplotter_gif.show()"
      ]
    }
  ],
  "metadata": {
    "kernelspec": {
      "display_name": "Python 3",
      "language": "python",
      "name": "python3"
    },
    "language_info": {
      "codemirror_mode": {
        "name": "ipython",
        "version": 3
      },
      "file_extension": ".py",
      "mimetype": "text/x-python",
      "name": "python",
      "nbconvert_exporter": "python",
      "pygments_lexer": "ipython3",
      "version": "3.11.7"
    }
  },
  "nbformat": 4,
  "nbformat_minor": 0
}