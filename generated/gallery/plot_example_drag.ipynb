{
  "cells": [
    {
      "cell_type": "code",
      "execution_count": null,
      "metadata": {
        "collapsed": false
      },
      "outputs": [],
      "source": [
        "%matplotlib inline"
      ]
    },
    {
      "cell_type": "markdown",
      "metadata": {},
      "source": [
        "\nImpact of drag on a missile\n===========================\n\nThis example shows the trajectory of a missile with and without drag.\n"
      ]
    },
    {
      "cell_type": "code",
      "execution_count": null,
      "metadata": {
        "collapsed": false
      },
      "outputs": [],
      "source": [
        "import torch\nfrom mlballistics.objects import Sphere\nfrom mlballistics.forces import Gravity, Drag\nfrom mlballistics.scene import Scene\n\n#\u00a0%%\n# Same initial conditions for both missiles.\n\ninitial_position = torch.Tensor([0.0, 0.0, 0.0])\ninitial_velocity = torch.Tensor([5.0, 0.0, 9.0])"
      ]
    },
    {
      "cell_type": "markdown",
      "metadata": {},
      "source": [
        "Missile without drag.\n\n"
      ]
    },
    {
      "cell_type": "code",
      "execution_count": null,
      "metadata": {
        "collapsed": false
      },
      "outputs": [],
      "source": [
        "missile_nodrag = Sphere(\n    radius=0.1,\n    mass=1.0,\n    initial_position=initial_position,\n    initial_velocity=initial_velocity,\n    force=Gravity(),\n)"
      ]
    },
    {
      "cell_type": "markdown",
      "metadata": {},
      "source": [
        "Missile with drag.\n\n"
      ]
    },
    {
      "cell_type": "code",
      "execution_count": null,
      "metadata": {
        "collapsed": false
      },
      "outputs": [],
      "source": [
        "missile_drag = Sphere(\n    radius=0.1,\n    mass=1.0,\n    initial_position=initial_position,\n    initial_velocity=initial_velocity,\n    force=Gravity() + Drag(),\n)"
      ]
    },
    {
      "cell_type": "markdown",
      "metadata": {},
      "source": [
        "Simulate the scene.\n\n"
      ]
    },
    {
      "cell_type": "code",
      "execution_count": null,
      "metadata": {
        "collapsed": false
      },
      "outputs": [],
      "source": [
        "scene = Scene(objects=[missile_nodrag, missile_drag])\nscene.simulate(stop_time=1.6, n_steps=100)"
      ]
    },
    {
      "cell_type": "markdown",
      "metadata": {},
      "source": [
        "Plot the trajectories.\n\n"
      ]
    },
    {
      "cell_type": "code",
      "execution_count": null,
      "metadata": {
        "collapsed": false
      },
      "outputs": [],
      "source": [
        "import pyvista as pv\n\ncpos = [(4.000001950189471, -12.056954193477605, 2.0641854759305716),\n (4.000001950189471, 0.0, 2.0641854759305716),\n (0.0, 0.0, 1.0)]\n\nplotter_gif = pv.Plotter(notebook=False, off_screen=True)\n\nplotter_gif.open_gif(\"missile.gif\", fps=30)\nfor time in range(100):\n\n    plotter_gif.clear_actors()\n\n    actor1 = missile_drag.actor(time=time, color='red', opacity=0.5)\n    actor2 = missile_nodrag.actor(time=time, color='blue', opacity=0.5)\n\n    plotter_gif.add_actor(actor1)\n    plotter_gif.add_actor(actor2)\n\n    plotter_gif.camera_position = cpos\n    plotter_gif.show_axes()\n    plotter_gif.write_frame()\n\nplotter_gif.show()"
      ]
    }
  ],
  "metadata": {
    "kernelspec": {
      "display_name": "Python 3",
      "language": "python",
      "name": "python3"
    },
    "language_info": {
      "codemirror_mode": {
        "name": "ipython",
        "version": 3
      },
      "file_extension": ".py",
      "mimetype": "text/x-python",
      "name": "python",
      "nbconvert_exporter": "python",
      "pygments_lexer": "ipython3",
      "version": "3.11.7"
    }
  },
  "nbformat": 4,
  "nbformat_minor": 0
}