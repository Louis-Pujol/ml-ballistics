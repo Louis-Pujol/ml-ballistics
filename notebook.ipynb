{
 "cells": [
  {
   "cell_type": "code",
   "execution_count": 5,
   "metadata": {},
   "outputs": [],
   "source": [
    "import torch\n",
    "\n",
    "from mlballistics.objects import Sphere\n",
    "from mlballistics.forces import Gravity, Drag\n",
    "from mlballistics.scene import Scene\n",
    "\n",
    "initial_position = torch.Tensor([0.0, 0.0, 0.0])\n",
    "initial_velocity = torch.Tensor([10.0, 0.0, 40.0])\n",
    "\n",
    "missile_nodrag = Sphere(\n",
    "    radius=0.05,\n",
    "    mass=1.0,\n",
    "    initial_position=initial_position,\n",
    "    initial_velocity=initial_velocity,\n",
    "    force=Gravity(),\n",
    ")\n",
    "\n",
    "missile_drag = Sphere(\n",
    "    radius=0.05,\n",
    "    mass=1.0,\n",
    "    initial_position=initial_position,\n",
    "    initial_velocity=initial_velocity,\n",
    "    force=Gravity() + Drag(),\n",
    ")\n",
    "\n",
    "scene = Scene(objects=[missile_nodrag, missile_drag])\n",
    "scene.simulate(stop_time=1.0, n_steps=100)\n",
    "\n",
    "# assert that the missile with drag has a shorter range\n",
    "# than the missile without drag\n",
    "x_trajectory_nodrag = missile_nodrag.trajectory[:, 0]\n",
    "x_trajectory_drag = missile_drag.trajectory[:, 0]\n",
    "assert torch.all(x_trajectory_drag  <= x_trajectory_nodrag)\n"
   ]
  },
  {
   "cell_type": "code",
   "execution_count": 6,
   "metadata": {},
   "outputs": [
    {
     "data": {
      "application/vnd.jupyter.widget-view+json": {
       "model_id": "166ad3361b2e40a6aa9ccc42949a5421",
       "version_major": 2,
       "version_minor": 0
      },
      "text/plain": [
       "Widget(value='<iframe src=\"http://localhost:44297/index.html?ui=P_0x7f7403260730_2&reconnect=auto\" class=\"pyvi…"
      ]
     },
     "metadata": {},
     "output_type": "display_data"
    }
   ],
   "source": [
    "time = 5\n",
    "\n",
    "pos_nodrag = missile_nodrag.trajectory[time]\n",
    "pos_drag = missile_drag.trajectory[time]\n",
    "\n",
    "actor1 = missile_drag.actor(time=80, color='red', opacity=0.5)\n",
    "actor2 = missile_nodrag.actor(time=80, color='blue', opacity=0.5)\n",
    "\n",
    "import pyvista as pv\n",
    "plotter = pv.Plotter()\n",
    "plotter.add_actor(actor1)\n",
    "plotter.add_actor(actor2)\n",
    "plotter.show()\n"
   ]
  },
  {
   "cell_type": "code",
   "execution_count": null,
   "metadata": {},
   "outputs": [],
   "source": []
  }
 ],
 "metadata": {
  "kernelspec": {
   "display_name": "python3.10",
   "language": "python",
   "name": "python3"
  },
  "language_info": {
   "codemirror_mode": {
    "name": "ipython",
    "version": 3
   },
   "file_extension": ".py",
   "mimetype": "text/x-python",
   "name": "python",
   "nbconvert_exporter": "python",
   "pygments_lexer": "ipython3",
   "version": "3.10.13"
  }
 },
 "nbformat": 4,
 "nbformat_minor": 2
}
